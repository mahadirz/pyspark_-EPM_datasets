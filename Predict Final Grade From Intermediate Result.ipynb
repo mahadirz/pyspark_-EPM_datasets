{
 "cells": [
  {
   "cell_type": "code",
   "execution_count": 1,
   "metadata": {
    "collapsed": true
   },
   "outputs": [],
   "source": [
    "from pyspark.sql import SparkSession\n",
    "from pyspark.ml.classification import LogisticRegression\n",
    "from pyspark.ml.feature import VectorAssembler\n",
    "from pyspark.ml.feature import Bucketizer\n",
    "from pyspark.ml import Pipeline\n",
    "from pyspark.ml.evaluation import BinaryClassificationEvaluator\n",
    "from pyspark.sql.functions import *"
   ]
  },
  {
   "cell_type": "code",
   "execution_count": 2,
   "metadata": {
    "collapsed": true
   },
   "outputs": [],
   "source": [
    "spark = SparkSession.builder.appName('final_grade').getOrCreate()"
   ]
  },
  {
   "cell_type": "code",
   "execution_count": 3,
   "metadata": {
    "collapsed": true
   },
   "outputs": [],
   "source": [
    "#load the datasets\n",
    "intermediateGrade = spark.read.csv('intermediate_grades.csv',inferSchema=True,header=True)\n",
    "finalGrade1 = spark.read.csv('Exam (First time)-Table 1.csv',inferSchema=True,header=True)\n",
    "finalGrade2 = spark.read.csv('Exam (Second time)-Table 1.csv',inferSchema=True,header=True)"
   ]
  },
  {
   "cell_type": "code",
   "execution_count": 4,
   "metadata": {},
   "outputs": [
    {
     "name": "stdout",
     "output_type": "stream",
     "text": [
      "+----------+---------+---------+---------+---------+---------+\n",
      "|Student Id|Session 2|Session 3|Session 4|Session 5|Session 6|\n",
      "+----------+---------+---------+---------+---------+---------+\n",
      "|         1|      5.0|      0.0|      4.5|      4.0|     2.25|\n",
      "|         2|      4.0|      3.5|      4.5|      4.0|      1.0|\n",
      "|         3|      3.5|      3.5|      4.5|      4.0|      0.0|\n",
      "|         4|      6.0|      4.0|      5.0|      3.5|     2.75|\n",
      "|         5|      5.0|      4.0|      5.0|      4.0|     2.75|\n",
      "+----------+---------+---------+---------+---------+---------+\n",
      "only showing top 5 rows\n",
      "\n"
     ]
    }
   ],
   "source": [
    "intermediateGrade.show(5)"
   ]
  },
  {
   "cell_type": "code",
   "execution_count": 5,
   "metadata": {},
   "outputs": [
    {
     "data": {
      "text/plain": [
       "['Student ID',\n",
       " 'ES 1.1 (2 points)',\n",
       " 'ES 1.2 (3 points)',\n",
       " 'ES 2.1 (2 points)',\n",
       " 'ES 2.2 (3 points)',\n",
       " 'ES 3.1,(1 points)',\n",
       " 'ES 3.2 (2 points)',\n",
       " 'ES 3.3 (2 points)',\n",
       " 'ES 3.4,(2 points)',\n",
       " 'ES 3.5, (3 points)',\n",
       " 'ES 4.1 (15 points)',\n",
       " 'ES 4.2 (10 points)',\n",
       " 'ES 5.1, (2 points)',\n",
       " 'ES 5.2 (10 points)',\n",
       " 'ES 5.3 (3 points)',\n",
       " 'ES 6.1 (25 points)',\n",
       " 'ES 6.2 (15 points)',\n",
       " 'TOTAL (100 points)']"
      ]
     },
     "execution_count": 5,
     "metadata": {},
     "output_type": "execute_result"
    }
   ],
   "source": [
    "finalGrade1.columns"
   ]
  },
  {
   "cell_type": "code",
   "execution_count": 6,
   "metadata": {},
   "outputs": [
    {
     "name": "stdout",
     "output_type": "stream",
     "text": [
      "115\n",
      "52\n",
      "62\n"
     ]
    }
   ],
   "source": [
    "#show the total rows in datasets\n",
    "#well, too little to have a good prediction\n",
    "print(intermediateGrade.count())\n",
    "print(finalGrade1.count())\n",
    "print(finalGrade2.count())"
   ]
  },
  {
   "cell_type": "code",
   "execution_count": 7,
   "metadata": {},
   "outputs": [
    {
     "name": "stdout",
     "output_type": "stream",
     "text": [
      "114\n",
      "+----------+------------------+\n",
      "|Student ID|TOTAL (100 points)|\n",
      "+----------+------------------+\n",
      "|         1|              94.5|\n",
      "|         2|              44.0|\n",
      "|         3|              85.0|\n",
      "|         4|              30.0|\n",
      "|         5|              38.5|\n",
      "|         6|              82.0|\n",
      "|         7|              78.0|\n",
      "|         8|               8.5|\n",
      "|         9|              18.5|\n",
      "|        10|              59.0|\n",
      "|        11|              60.0|\n",
      "|        12|              40.5|\n",
      "|        13|              90.0|\n",
      "|        14|              64.0|\n",
      "|        15|              67.5|\n",
      "|        16|              67.0|\n",
      "|        17|              97.0|\n",
      "|        18|              62.0|\n",
      "|        19|              50.0|\n",
      "|        20|              97.5|\n",
      "+----------+------------------+\n",
      "only showing top 20 rows\n",
      "\n"
     ]
    }
   ],
   "source": [
    "#join the 2 final \n",
    "tempDF = finalGrade1.join(finalGrade2, ['Student ID','TOTAL (100 points)'],'fullouter').select('Student ID','TOTAL (100 points)')\n",
    "print(tempDF.count())\n",
    "#tempDF.printSchema()\n",
    "tempDF = tempDF.dropDuplicates(['Student ID']).orderBy('Student ID')\n",
    "tempDF.show()"
   ]
  },
  {
   "cell_type": "code",
   "execution_count": 8,
   "metadata": {},
   "outputs": [
    {
     "name": "stdout",
     "output_type": "stream",
     "text": [
      "93\n",
      "root\n",
      " |-- Student Id: integer (nullable = true)\n",
      " |-- Session 2: double (nullable = true)\n",
      " |-- Session 3: double (nullable = true)\n",
      " |-- Session 4: double (nullable = true)\n",
      " |-- Session 5: double (nullable = true)\n",
      " |-- Session 6: double (nullable = true)\n",
      " |-- TOTAL (100 points): double (nullable = true)\n",
      "\n"
     ]
    }
   ],
   "source": [
    "newDF = intermediateGrade.alias('a').join(tempDF.alias('b'), col('a.Student ID') == col('b.Student ID'))\n",
    "newDF = newDF.select('a.Student Id','a.Session 2','a.Session 3','a.Session 4','a.Session 5','a.Session 6','b.TOTAL (100 points)')\n",
    "print(newDF.count())\n",
    "newDF.printSchema()"
   ]
  },
  {
   "cell_type": "code",
   "execution_count": 9,
   "metadata": {
    "collapsed": true
   },
   "outputs": [],
   "source": [
    "assembler = VectorAssembler(\n",
    "    inputCols=['Session 2',\n",
    " 'Session 3',\n",
    " 'Session 4',\n",
    " 'Session 5',\n",
    " 'Session 6',\n",
    "  ],\n",
    "    outputCol=\"features\")"
   ]
  },
  {
   "cell_type": "code",
   "execution_count": 10,
   "metadata": {},
   "outputs": [],
   "source": [
    "#bucket the total points into Fail, intermediate, & Excellent\n",
    "splits = [0,40,80,100]\n",
    "bucketizer = Bucketizer(splits=splits, inputCol=\"TOTAL (100 points)\", outputCol=\"grade\")\n",
    "\n",
    "#uncomment below to view before pipe\n",
    "#bucketedData = bucketizer.transform(newDF)\n",
    "#print(\"Bucketizer output with %d buckets\" % (len(bucketizer.getSplits())-1))\n",
    "#bucketedData.select(['Student Id','grade']).show()"
   ]
  },
  {
   "cell_type": "code",
   "execution_count": 11,
   "metadata": {},
   "outputs": [],
   "source": [
    "logReg = LogisticRegression(featuresCol='features',labelCol='grade')"
   ]
  },
  {
   "cell_type": "code",
   "execution_count": 12,
   "metadata": {
    "collapsed": true
   },
   "outputs": [],
   "source": [
    "pipeline = Pipeline(stages=[bucketizer,assembler,logReg])"
   ]
  },
  {
   "cell_type": "code",
   "execution_count": 21,
   "metadata": {
    "collapsed": true
   },
   "outputs": [],
   "source": [
    "#dataset too small, so split 90/10\n",
    "trainData,testData = newDF.randomSplit([0.8,0.2])"
   ]
  },
  {
   "cell_type": "code",
   "execution_count": 22,
   "metadata": {},
   "outputs": [
    {
     "data": {
      "text/plain": [
       "['Student Id',\n",
       " 'Session 2',\n",
       " 'Session 3',\n",
       " 'Session 4',\n",
       " 'Session 5',\n",
       " 'Session 6',\n",
       " 'TOTAL (100 points)']"
      ]
     },
     "execution_count": 22,
     "metadata": {},
     "output_type": "execute_result"
    }
   ],
   "source": [
    "trainData.columns"
   ]
  },
  {
   "cell_type": "code",
   "execution_count": 23,
   "metadata": {},
   "outputs": [],
   "source": [
    "fitModel = pipeline.fit(trainData)"
   ]
  },
  {
   "cell_type": "code",
   "execution_count": 24,
   "metadata": {},
   "outputs": [],
   "source": [
    "results = fitModel.transform(testData)"
   ]
  },
  {
   "cell_type": "code",
   "execution_count": 25,
   "metadata": {
    "collapsed": true
   },
   "outputs": [],
   "source": [
    "myEval = BinaryClassificationEvaluator(rawPredictionCol='prediction',\n",
    "                                       labelCol='grade')"
   ]
  },
  {
   "cell_type": "code",
   "execution_count": 26,
   "metadata": {},
   "outputs": [
    {
     "name": "stdout",
     "output_type": "stream",
     "text": [
      "+-----+----------+\n",
      "|grade|prediction|\n",
      "+-----+----------+\n",
      "|  1.0|       1.0|\n",
      "|  1.0|       0.0|\n",
      "|  2.0|       2.0|\n",
      "|  2.0|       2.0|\n",
      "|  0.0|       0.0|\n",
      "|  1.0|       1.0|\n",
      "|  0.0|       1.0|\n",
      "|  0.0|       1.0|\n",
      "|  1.0|       0.0|\n",
      "|  0.0|       0.0|\n",
      "|  0.0|       0.0|\n",
      "|  1.0|       1.0|\n",
      "|  2.0|       1.0|\n",
      "|  0.0|       0.0|\n",
      "|  1.0|       1.0|\n",
      "|  2.0|       1.0|\n",
      "|  0.0|       1.0|\n",
      "|  1.0|       1.0|\n",
      "+-----+----------+\n",
      "\n"
     ]
    }
   ],
   "source": [
    "results.select('grade','prediction').show()"
   ]
  },
  {
   "cell_type": "code",
   "execution_count": 27,
   "metadata": {},
   "outputs": [],
   "source": [
    "AUC = myEval.evaluate(results)"
   ]
  },
  {
   "cell_type": "code",
   "execution_count": 28,
   "metadata": {},
   "outputs": [
    {
     "data": {
      "text/plain": [
       "0.7337662337662338"
      ]
     },
     "execution_count": 28,
     "metadata": {},
     "output_type": "execute_result"
    }
   ],
   "source": [
    "#from my test, got 0.852 . good enough I guess\n",
    "# the result may vary based on random split\n",
    "AUC"
   ]
  },
  {
   "cell_type": "code",
   "execution_count": null,
   "metadata": {
    "collapsed": true
   },
   "outputs": [],
   "source": []
  }
 ],
 "metadata": {
  "kernelspec": {
   "display_name": "Python 3",
   "language": "python",
   "name": "python3"
  },
  "language_info": {
   "codemirror_mode": {
    "name": "ipython",
    "version": 3
   },
   "file_extension": ".py",
   "mimetype": "text/x-python",
   "name": "python",
   "nbconvert_exporter": "python",
   "pygments_lexer": "ipython3",
   "version": "3.5.3"
  }
 },
 "nbformat": 4,
 "nbformat_minor": 2
}
